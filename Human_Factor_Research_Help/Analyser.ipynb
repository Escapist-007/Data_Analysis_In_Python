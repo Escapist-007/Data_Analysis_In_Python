{
 "cells": [
  {
   "cell_type": "code",
   "execution_count": 1,
   "metadata": {},
   "outputs": [],
   "source": [
    "import pandas as pd\n",
    "import numpy as np\n",
    "import os   \n",
    "import glob\n",
    "import shutil\n",
    "import pandas as pd"
   ]
  },
  {
   "cell_type": "markdown",
   "metadata": {},
   "source": [
    "# <font color=blue>Generating All Divisors"
   ]
  },
  {
   "cell_type": "markdown",
   "metadata": {},
   "source": [
    "### <font color=green>Loading excel file"
   ]
  },
  {
   "cell_type": "code",
   "execution_count": 2,
   "metadata": {},
   "outputs": [],
   "source": [
    "Book2 = pd.read_excel('Book2.xlsx')"
   ]
  },
  {
   "cell_type": "code",
   "execution_count": 3,
   "metadata": {},
   "outputs": [
    {
     "data": {
      "text/plain": [
       "(1731, 74)"
      ]
     },
     "execution_count": 3,
     "metadata": {},
     "output_type": "execute_result"
    }
   ],
   "source": [
    "Book2.shape"
   ]
  },
  {
   "cell_type": "markdown",
   "metadata": {},
   "source": [
    "### <font color=green>Column selection and renaming"
   ]
  },
  {
   "cell_type": "code",
   "execution_count": 4,
   "metadata": {},
   "outputs": [],
   "source": [
    "df = Book2[['Case Number','Surgeon Number', 'Role', 'Task Code','Task Time (min)','% Time']]"
   ]
  },
  {
   "cell_type": "code",
   "execution_count": 5,
   "metadata": {},
   "outputs": [],
   "source": [
    "df.columns = df.columns.str.replace('% ','')\n",
    "df.columns = df.columns.str.replace('(','')\n",
    "df.columns = df.columns.str.replace(')','')\n",
    "df.columns = df.columns.str.replace(' ','_')"
   ]
  },
  {
   "cell_type": "code",
   "execution_count": 6,
   "metadata": {},
   "outputs": [
    {
     "data": {
      "text/html": [
       "<div>\n",
       "<style scoped>\n",
       "    .dataframe tbody tr th:only-of-type {\n",
       "        vertical-align: middle;\n",
       "    }\n",
       "\n",
       "    .dataframe tbody tr th {\n",
       "        vertical-align: top;\n",
       "    }\n",
       "\n",
       "    .dataframe thead th {\n",
       "        text-align: right;\n",
       "    }\n",
       "</style>\n",
       "<table border=\"1\" class=\"dataframe\">\n",
       "  <thead>\n",
       "    <tr style=\"text-align: right;\">\n",
       "      <th></th>\n",
       "      <th>Case_Number</th>\n",
       "      <th>Surgeon_Number</th>\n",
       "      <th>Role</th>\n",
       "      <th>Task_Code</th>\n",
       "      <th>Task_Time_min</th>\n",
       "      <th>Time</th>\n",
       "    </tr>\n",
       "  </thead>\n",
       "  <tbody>\n",
       "    <tr>\n",
       "      <th>0</th>\n",
       "      <td>1.0</td>\n",
       "      <td>1.0</td>\n",
       "      <td>p</td>\n",
       "      <td>0.0</td>\n",
       "      <td>295.383333</td>\n",
       "      <td>100.000000</td>\n",
       "    </tr>\n",
       "    <tr>\n",
       "      <th>1</th>\n",
       "      <td>1.0</td>\n",
       "      <td>1.0</td>\n",
       "      <td>p</td>\n",
       "      <td>1.0</td>\n",
       "      <td>58.000000</td>\n",
       "      <td>19.635502</td>\n",
       "    </tr>\n",
       "    <tr>\n",
       "      <th>2</th>\n",
       "      <td>1.0</td>\n",
       "      <td>1.0</td>\n",
       "      <td>p</td>\n",
       "      <td>2.0</td>\n",
       "      <td>111.933333</td>\n",
       "      <td>37.894262</td>\n",
       "    </tr>\n",
       "    <tr>\n",
       "      <th>3</th>\n",
       "      <td>1.0</td>\n",
       "      <td>1.0</td>\n",
       "      <td>p</td>\n",
       "      <td>3.0</td>\n",
       "      <td>23.216667</td>\n",
       "      <td>7.859843</td>\n",
       "    </tr>\n",
       "    <tr>\n",
       "      <th>4</th>\n",
       "      <td>1.0</td>\n",
       "      <td>1.0</td>\n",
       "      <td>p</td>\n",
       "      <td>4.0</td>\n",
       "      <td>0.000000</td>\n",
       "      <td>0.000000</td>\n",
       "    </tr>\n",
       "  </tbody>\n",
       "</table>\n",
       "</div>"
      ],
      "text/plain": [
       "   Case_Number  Surgeon_Number Role  Task_Code  Task_Time_min        Time\n",
       "0          1.0             1.0    p        0.0     295.383333  100.000000\n",
       "1          1.0             1.0    p        1.0      58.000000   19.635502\n",
       "2          1.0             1.0    p        2.0     111.933333   37.894262\n",
       "3          1.0             1.0    p        3.0      23.216667    7.859843\n",
       "4          1.0             1.0    p        4.0       0.000000    0.000000"
      ]
     },
     "execution_count": 6,
     "metadata": {},
     "output_type": "execute_result"
    }
   ],
   "source": [
    "df.head()"
   ]
  },
  {
   "cell_type": "markdown",
   "metadata": {},
   "source": [
    "###  <font color=green> Data types, Rounding and Row filtering"
   ]
  },
  {
   "cell_type": "code",
   "execution_count": 7,
   "metadata": {},
   "outputs": [
    {
     "data": {
      "text/plain": [
       "Case_Number       float64\n",
       "Surgeon_Number    float64\n",
       "Role               object\n",
       "Task_Code         float64\n",
       "Task_Time_min     float64\n",
       "Time              float64\n",
       "dtype: object"
      ]
     },
     "execution_count": 7,
     "metadata": {},
     "output_type": "execute_result"
    }
   ],
   "source": [
    "df.dtypes"
   ]
  },
  {
   "cell_type": "code",
   "execution_count": 8,
   "metadata": {},
   "outputs": [
    {
     "name": "stderr",
     "output_type": "stream",
     "text": [
      "/anaconda3/lib/python3.7/site-packages/ipykernel_launcher.py:1: SettingWithCopyWarning: \n",
      "A value is trying to be set on a copy of a slice from a DataFrame.\n",
      "Try using .loc[row_indexer,col_indexer] = value instead\n",
      "\n",
      "See the caveats in the documentation: http://pandas.pydata.org/pandas-docs/stable/indexing.html#indexing-view-versus-copy\n",
      "  \"\"\"Entry point for launching an IPython kernel.\n"
     ]
    }
   ],
   "source": [
    "df['Time'] = df.Time.astype(float)"
   ]
  },
  {
   "cell_type": "code",
   "execution_count": 9,
   "metadata": {},
   "outputs": [
    {
     "data": {
      "text/plain": [
       "Case_Number       float64\n",
       "Surgeon_Number    float64\n",
       "Role               object\n",
       "Task_Code         float64\n",
       "Task_Time_min     float64\n",
       "Time              float64\n",
       "dtype: object"
      ]
     },
     "execution_count": 9,
     "metadata": {},
     "output_type": "execute_result"
    }
   ],
   "source": [
    "df.dtypes"
   ]
  },
  {
   "cell_type": "code",
   "execution_count": 10,
   "metadata": {},
   "outputs": [],
   "source": [
    "df = df.round(2)"
   ]
  },
  {
   "cell_type": "code",
   "execution_count": 11,
   "metadata": {},
   "outputs": [],
   "source": [
    "df = df[df.Time==100.00]"
   ]
  },
  {
   "cell_type": "code",
   "execution_count": 12,
   "metadata": {},
   "outputs": [],
   "source": [
    "df['Case_Number'] = df.Case_Number.astype(int)\n",
    "df['Surgeon_Number'] = df.Surgeon_Number.astype(int)"
   ]
  },
  {
   "cell_type": "code",
   "execution_count": 13,
   "metadata": {},
   "outputs": [],
   "source": [
    "df['Case_Number'] = df.Case_Number.astype(str)\n",
    "df['Surgeon_Number'] = df.Surgeon_Number.astype(str)"
   ]
  },
  {
   "cell_type": "code",
   "execution_count": 14,
   "metadata": {},
   "outputs": [
    {
     "data": {
      "text/plain": [
       "Case_Number        object\n",
       "Surgeon_Number     object\n",
       "Role               object\n",
       "Task_Code         float64\n",
       "Task_Time_min     float64\n",
       "Time              float64\n",
       "dtype: object"
      ]
     },
     "execution_count": 14,
     "metadata": {},
     "output_type": "execute_result"
    }
   ],
   "source": [
    "df.dtypes"
   ]
  },
  {
   "cell_type": "code",
   "execution_count": 15,
   "metadata": {},
   "outputs": [],
   "source": [
    "df = df.drop_duplicates() "
   ]
  },
  {
   "cell_type": "code",
   "execution_count": 16,
   "metadata": {},
   "outputs": [
    {
     "data": {
      "text/plain": [
       "(27, 6)"
      ]
     },
     "execution_count": 16,
     "metadata": {},
     "output_type": "execute_result"
    }
   ],
   "source": [
    "df.shape"
   ]
  },
  {
   "cell_type": "markdown",
   "metadata": {},
   "source": [
    "###  <font color=green> Creating new columns"
   ]
  },
  {
   "cell_type": "code",
   "execution_count": 17,
   "metadata": {},
   "outputs": [],
   "source": [
    "df['Observation'] = df.Case_Number + '-' + df.Surgeon_Number + df.Role.str.upper()"
   ]
  },
  {
   "cell_type": "code",
   "execution_count": 18,
   "metadata": {},
   "outputs": [],
   "source": [
    "df['Divisor'] = df.Task_Time_min*60"
   ]
  },
  {
   "cell_type": "code",
   "execution_count": 19,
   "metadata": {},
   "outputs": [
    {
     "data": {
      "text/plain": [
       "(27, 8)"
      ]
     },
     "execution_count": 19,
     "metadata": {},
     "output_type": "execute_result"
    }
   ],
   "source": [
    "df.shape"
   ]
  },
  {
   "cell_type": "code",
   "execution_count": 20,
   "metadata": {},
   "outputs": [
    {
     "data": {
      "text/html": [
       "<div>\n",
       "<style scoped>\n",
       "    .dataframe tbody tr th:only-of-type {\n",
       "        vertical-align: middle;\n",
       "    }\n",
       "\n",
       "    .dataframe tbody tr th {\n",
       "        vertical-align: top;\n",
       "    }\n",
       "\n",
       "    .dataframe thead th {\n",
       "        text-align: right;\n",
       "    }\n",
       "</style>\n",
       "<table border=\"1\" class=\"dataframe\">\n",
       "  <thead>\n",
       "    <tr style=\"text-align: right;\">\n",
       "      <th></th>\n",
       "      <th>Case_Number</th>\n",
       "      <th>Surgeon_Number</th>\n",
       "      <th>Role</th>\n",
       "      <th>Task_Code</th>\n",
       "      <th>Task_Time_min</th>\n",
       "      <th>Time</th>\n",
       "      <th>Observation</th>\n",
       "      <th>Divisor</th>\n",
       "    </tr>\n",
       "  </thead>\n",
       "  <tbody>\n",
       "    <tr>\n",
       "      <th>0</th>\n",
       "      <td>1</td>\n",
       "      <td>1</td>\n",
       "      <td>p</td>\n",
       "      <td>0.0</td>\n",
       "      <td>295.38</td>\n",
       "      <td>100.0</td>\n",
       "      <td>1-1P</td>\n",
       "      <td>17722.8</td>\n",
       "    </tr>\n",
       "    <tr>\n",
       "      <th>16</th>\n",
       "      <td>1</td>\n",
       "      <td>2</td>\n",
       "      <td>A</td>\n",
       "      <td>0.0</td>\n",
       "      <td>294.77</td>\n",
       "      <td>100.0</td>\n",
       "      <td>1-2A</td>\n",
       "      <td>17686.2</td>\n",
       "    </tr>\n",
       "    <tr>\n",
       "      <th>32</th>\n",
       "      <td>2</td>\n",
       "      <td>3</td>\n",
       "      <td>p</td>\n",
       "      <td>0.0</td>\n",
       "      <td>138.12</td>\n",
       "      <td>100.0</td>\n",
       "      <td>2-3P</td>\n",
       "      <td>8287.2</td>\n",
       "    </tr>\n",
       "    <tr>\n",
       "      <th>48</th>\n",
       "      <td>2</td>\n",
       "      <td>4</td>\n",
       "      <td>A</td>\n",
       "      <td>0.0</td>\n",
       "      <td>138.08</td>\n",
       "      <td>100.0</td>\n",
       "      <td>2-4A</td>\n",
       "      <td>8284.8</td>\n",
       "    </tr>\n",
       "    <tr>\n",
       "      <th>64</th>\n",
       "      <td>3</td>\n",
       "      <td>1</td>\n",
       "      <td>A</td>\n",
       "      <td>0.0</td>\n",
       "      <td>116.37</td>\n",
       "      <td>100.0</td>\n",
       "      <td>3-1A</td>\n",
       "      <td>6982.2</td>\n",
       "    </tr>\n",
       "  </tbody>\n",
       "</table>\n",
       "</div>"
      ],
      "text/plain": [
       "   Case_Number Surgeon_Number Role  Task_Code  Task_Time_min   Time  \\\n",
       "0            1              1    p        0.0         295.38  100.0   \n",
       "16           1              2    A        0.0         294.77  100.0   \n",
       "32           2              3    p        0.0         138.12  100.0   \n",
       "48           2              4    A        0.0         138.08  100.0   \n",
       "64           3              1    A        0.0         116.37  100.0   \n",
       "\n",
       "   Observation  Divisor  \n",
       "0         1-1P  17722.8  \n",
       "16        1-2A  17686.2  \n",
       "32        2-3P   8287.2  \n",
       "48        2-4A   8284.8  \n",
       "64        3-1A   6982.2  "
      ]
     },
     "execution_count": 20,
     "metadata": {},
     "output_type": "execute_result"
    }
   ],
   "source": [
    "df.head()"
   ]
  },
  {
   "cell_type": "markdown",
   "metadata": {},
   "source": [
    "###  <font color=green> Creating dictionary"
   ]
  },
  {
   "cell_type": "code",
   "execution_count": 21,
   "metadata": {},
   "outputs": [],
   "source": [
    "d = pd.Series(df.Divisor.values,index=df.Observation).to_dict()"
   ]
  },
  {
   "cell_type": "code",
   "execution_count": 22,
   "metadata": {},
   "outputs": [
    {
     "data": {
      "text/plain": [
       "{'1-1P': 17722.8,\n",
       " '1-2A': 17686.199999999997,\n",
       " '2-3P': 8287.2,\n",
       " '2-4A': 8284.800000000001,\n",
       " '3-1A': 6982.200000000001,\n",
       " '3-5P': 6982.799999999999,\n",
       " '4-6P': 9555.0,\n",
       " '4-7A': 9555.0,\n",
       " '5-2P': 14421.0,\n",
       " '5-3A': 14362.8,\n",
       " '6-5A': 10264.199999999999,\n",
       " '6-7P': 10231.2,\n",
       " '7-8P': 7818.000000000001,\n",
       " '7-9A': 7818.000000000001,\n",
       " '8-6A': 9154.800000000001,\n",
       " '8-10P': 9154.800000000001,\n",
       " '9-11P': 9570.0,\n",
       " '9-12A': 9571.2,\n",
       " '10-13P': 11788.8,\n",
       " '10-14A': 11773.8,\n",
       " '11-15P': 16929.0,\n",
       " '11-16A': 18859.8,\n",
       " '12-13A': 9597.0,\n",
       " '12-14P': 9600.0,\n",
       " '13-15A': 8856.0,\n",
       " '13-17P': 8854.800000000001,\n",
       " '13-18A': 8856.0}"
      ]
     },
     "execution_count": 22,
     "metadata": {},
     "output_type": "execute_result"
    }
   ],
   "source": [
    "d"
   ]
  },
  {
   "cell_type": "markdown",
   "metadata": {},
   "source": [
    "#  <font color=blue> Divide all cells in new excel files"
   ]
  },
  {
   "cell_type": "code",
   "execution_count": 23,
   "metadata": {},
   "outputs": [],
   "source": [
    "fileName = '14. Attachement of vaginal mesh.xlsx'\n",
    "excelFile = pd.ExcelFile(fileName)"
   ]
  },
  {
   "cell_type": "markdown",
   "metadata": {},
   "source": [
    "## <font color=red> 1st sheet "
   ]
  },
  {
   "cell_type": "code",
   "execution_count": 24,
   "metadata": {},
   "outputs": [],
   "source": [
    "df1 = pd.read_excel(excelFile, sheet_name=0,nrows=1)"
   ]
  },
  {
   "cell_type": "code",
   "execution_count": 25,
   "metadata": {},
   "outputs": [
    {
     "data": {
      "text/html": [
       "<div>\n",
       "<style scoped>\n",
       "    .dataframe tbody tr th:only-of-type {\n",
       "        vertical-align: middle;\n",
       "    }\n",
       "\n",
       "    .dataframe tbody tr th {\n",
       "        vertical-align: top;\n",
       "    }\n",
       "\n",
       "    .dataframe thead th {\n",
       "        text-align: right;\n",
       "    }\n",
       "</style>\n",
       "<table border=\"1\" class=\"dataframe\">\n",
       "  <thead>\n",
       "    <tr style=\"text-align: right;\">\n",
       "      <th></th>\n",
       "      <th>0</th>\n",
       "      <th>11-15P</th>\n",
       "      <th>11-16A</th>\n",
       "      <th>Total</th>\n",
       "      <th>%</th>\n",
       "      <th>Average</th>\n",
       "    </tr>\n",
       "  </thead>\n",
       "  <tbody>\n",
       "    <tr>\n",
       "      <th>0</th>\n",
       "      <td>Posture_code</td>\n",
       "      <td>Duration(s)</td>\n",
       "      <td>Duration(s)</td>\n",
       "      <td>Duration(s)</td>\n",
       "      <td>Total Duration</td>\n",
       "      <td>Duration(s)</td>\n",
       "    </tr>\n",
       "  </tbody>\n",
       "</table>\n",
       "</div>"
      ],
      "text/plain": [
       "              0       11-15P       11-16A       Total                %  \\\n",
       "0  Posture_code  Duration(s)  Duration(s)  Duration(s)  Total Duration   \n",
       "\n",
       "       Average  \n",
       "0  Duration(s)  "
      ]
     },
     "execution_count": 25,
     "metadata": {},
     "output_type": "execute_result"
    }
   ],
   "source": [
    "df1"
   ]
  },
  {
   "cell_type": "markdown",
   "metadata": {},
   "source": [
    "####  <font color=green> Finding_out necessary columns' name"
   ]
  },
  {
   "cell_type": "code",
   "execution_count": 26,
   "metadata": {},
   "outputs": [],
   "source": [
    "column_list = []\n",
    "\n",
    "col_list_A = []\n",
    "col_list_P = []\n",
    "\n",
    "for col in df1.columns:\n",
    "    c = str(col)[-1].upper()\n",
    "    if c=='A':\n",
    "        column_list.append(col)\n",
    "        col_list_A.append(col)\n",
    "    elif c=='P':\n",
    "        column_list.append(col)\n",
    "        col_list_P.append(col)\n",
    "    else:\n",
    "        None\n",
    "            "
   ]
  },
  {
   "cell_type": "code",
   "execution_count": 27,
   "metadata": {},
   "outputs": [],
   "source": [
    "df1 = pd.read_excel(excelFile, sheet_name=0).iloc[1:-1,:]"
   ]
  },
  {
   "cell_type": "code",
   "execution_count": 28,
   "metadata": {},
   "outputs": [
    {
     "data": {
      "text/plain": [
       "(26, 6)"
      ]
     },
     "execution_count": 28,
     "metadata": {},
     "output_type": "execute_result"
    }
   ],
   "source": [
    "df1.shape"
   ]
  },
  {
   "cell_type": "code",
   "execution_count": 29,
   "metadata": {},
   "outputs": [],
   "source": [
    "df1 = df1[column_list]\n",
    "\n",
    "df1_A = df1[col_list_A]\n",
    "df1_P = df1[col_list_P]"
   ]
  },
  {
   "cell_type": "code",
   "execution_count": 30,
   "metadata": {},
   "outputs": [
    {
     "name": "stdout",
     "output_type": "stream",
     "text": [
      "(26, 2)\n",
      "(26, 1)\n",
      "(26, 1)\n"
     ]
    }
   ],
   "source": [
    "print(df1.shape)\n",
    "print(df1_A.shape)\n",
    "print(df1_P.shape)"
   ]
  },
  {
   "cell_type": "markdown",
   "metadata": {},
   "source": [
    "##  <font color=orange>Divide every cell value "
   ]
  },
  {
   "cell_type": "code",
   "execution_count": 31,
   "metadata": {},
   "outputs": [
    {
     "name": "stderr",
     "output_type": "stream",
     "text": [
      "/anaconda3/lib/python3.7/site-packages/ipykernel_launcher.py:13: SettingWithCopyWarning: \n",
      "A value is trying to be set on a copy of a slice from a DataFrame.\n",
      "Try using .loc[row_indexer,col_indexer] = value instead\n",
      "\n",
      "See the caveats in the documentation: http://pandas.pydata.org/pandas-docs/stable/indexing.html#indexing-view-versus-copy\n",
      "  del sys.path[0]\n",
      "/anaconda3/lib/python3.7/site-packages/ipykernel_launcher.py:20: SettingWithCopyWarning: \n",
      "A value is trying to be set on a copy of a slice from a DataFrame.\n",
      "Try using .loc[row_indexer,col_indexer] = value instead\n",
      "\n",
      "See the caveats in the documentation: http://pandas.pydata.org/pandas-docs/stable/indexing.html#indexing-view-versus-copy\n"
     ]
    }
   ],
   "source": [
    "for i in column_list:\n",
    "    divisor = d.get(i)\n",
    "    if divisor==0:\n",
    "        print(\"Divisor is 0. Skipping the division\")\n",
    "        continue \n",
    "    df1[i] = df1[i] / divisor\n",
    "\n",
    "for i in col_list_A:\n",
    "    divisor = d.get(i)\n",
    "    if divisor==0:\n",
    "        print(\"Divisor is 0. Skipping the division\")\n",
    "        continue \n",
    "    df1_A[i] = df1_A[i] / divisor\n",
    "    \n",
    "for i in col_list_P:\n",
    "    divisor = d.get(i)\n",
    "    if divisor==0:\n",
    "        print(\"Divisor is 0. Skipping the division\")\n",
    "        continue \n",
    "    df1_P[i] = df1_P[i] / divisor\n",
    "    "
   ]
  },
  {
   "cell_type": "markdown",
   "metadata": {},
   "source": [
    "##  <font color=red>2nd sheet"
   ]
  },
  {
   "cell_type": "code",
   "execution_count": 32,
   "metadata": {},
   "outputs": [],
   "source": [
    "df2 = pd.read_excel(excelFile, sheet_name=1,nrows=1)"
   ]
  },
  {
   "cell_type": "code",
   "execution_count": 33,
   "metadata": {},
   "outputs": [
    {
     "data": {
      "text/html": [
       "<div>\n",
       "<style scoped>\n",
       "    .dataframe tbody tr th:only-of-type {\n",
       "        vertical-align: middle;\n",
       "    }\n",
       "\n",
       "    .dataframe tbody tr th {\n",
       "        vertical-align: top;\n",
       "    }\n",
       "\n",
       "    .dataframe thead th {\n",
       "        text-align: right;\n",
       "    }\n",
       "</style>\n",
       "<table border=\"1\" class=\"dataframe\">\n",
       "  <thead>\n",
       "    <tr style=\"text-align: right;\">\n",
       "      <th></th>\n",
       "      <th>11-15P</th>\n",
       "      <th>11-16A</th>\n",
       "      <th>Total</th>\n",
       "      <th>%</th>\n",
       "      <th>Average</th>\n",
       "    </tr>\n",
       "  </thead>\n",
       "  <tbody>\n",
       "    <tr>\n",
       "      <th>Posture_code</th>\n",
       "      <td>Freq</td>\n",
       "      <td>Freq</td>\n",
       "      <td>Freq</td>\n",
       "      <td>Total Freq</td>\n",
       "      <td>Freq</td>\n",
       "    </tr>\n",
       "  </tbody>\n",
       "</table>\n",
       "</div>"
      ],
      "text/plain": [
       "             11-15P 11-16A Total           % Average\n",
       "Posture_code   Freq   Freq  Freq  Total Freq    Freq"
      ]
     },
     "execution_count": 33,
     "metadata": {},
     "output_type": "execute_result"
    }
   ],
   "source": [
    "df2"
   ]
  },
  {
   "cell_type": "code",
   "execution_count": 34,
   "metadata": {},
   "outputs": [],
   "source": [
    "column_list2 = []\n",
    "\n",
    "col_list2_A = []\n",
    "col_list2_P = []\n",
    "\n",
    "for col in df2.columns:\n",
    "    c = str(col)[-1].upper()\n",
    "    if c=='A':\n",
    "        column_list2.append(col)\n",
    "        col_list2_A.append(col)\n",
    "    elif c=='P':\n",
    "        column_list2.append(col)\n",
    "        col_list2_P.append(col)\n",
    "    else:\n",
    "        None\n",
    "            "
   ]
  },
  {
   "cell_type": "code",
   "execution_count": 35,
   "metadata": {},
   "outputs": [],
   "source": [
    "df2 = pd.read_excel(excelFile, sheet_name=1).iloc[1:-1,:]"
   ]
  },
  {
   "cell_type": "code",
   "execution_count": 36,
   "metadata": {},
   "outputs": [],
   "source": [
    "df2   = df2[column_list2]\n",
    "\n",
    "df2_A = df2[col_list2_A]\n",
    "df2_P = df2[col_list2_P]"
   ]
  },
  {
   "cell_type": "code",
   "execution_count": 37,
   "metadata": {},
   "outputs": [
    {
     "name": "stdout",
     "output_type": "stream",
     "text": [
      "(26, 2)\n",
      "(26, 1)\n",
      "(26, 1)\n"
     ]
    }
   ],
   "source": [
    "print(df2.shape)\n",
    "print(df2_A.shape)\n",
    "print(df2_P.shape)"
   ]
  },
  {
   "cell_type": "markdown",
   "metadata": {},
   "source": [
    "##  <font color=orange>Divide every cell value "
   ]
  },
  {
   "cell_type": "code",
   "execution_count": 38,
   "metadata": {},
   "outputs": [
    {
     "name": "stderr",
     "output_type": "stream",
     "text": [
      "/anaconda3/lib/python3.7/site-packages/ipykernel_launcher.py:21: SettingWithCopyWarning: \n",
      "A value is trying to be set on a copy of a slice from a DataFrame.\n",
      "Try using .loc[row_indexer,col_indexer] = value instead\n",
      "\n",
      "See the caveats in the documentation: http://pandas.pydata.org/pandas-docs/stable/indexing.html#indexing-view-versus-copy\n",
      "/anaconda3/lib/python3.7/site-packages/ipykernel_launcher.py:32: SettingWithCopyWarning: \n",
      "A value is trying to be set on a copy of a slice from a DataFrame.\n",
      "Try using .loc[row_indexer,col_indexer] = value instead\n",
      "\n",
      "See the caveats in the documentation: http://pandas.pydata.org/pandas-docs/stable/indexing.html#indexing-view-versus-copy\n"
     ]
    }
   ],
   "source": [
    "for i in column_list2:\n",
    "    divisor = d.get(i)/60\n",
    "    divisor = divisor/15\n",
    "    divisor = round(divisor,2)\n",
    "\n",
    "    if divisor==0:\n",
    "        print(\"Divisor is 0. Skipping the division\")\n",
    "        continue \n",
    "    df2[i] = df2[i] / divisor\n",
    "    \n",
    "\n",
    "for i in col_list2_A:\n",
    "    \n",
    "    divisor = d.get(i)/60\n",
    "    divisor = divisor/15\n",
    "    divisor = round(divisor,2)\n",
    "    \n",
    "    if divisor==0:\n",
    "        print(\"Divisor is 0. Skipping the division\")\n",
    "        continue \n",
    "    df2_A[i] = df2_A[i] / divisor\n",
    "    \n",
    "for i in col_list2_P:\n",
    "    \n",
    "    divisor = d.get(i)\n",
    "    divisor = divisor/15\n",
    "    divisor = round(divisor,2)\n",
    "    \n",
    "    if divisor==0:\n",
    "        print(\"Divisor is 0. Skipping the division\")\n",
    "        continue \n",
    "    df2_P[i] = df2_P[i] / divisor"
   ]
  },
  {
   "cell_type": "markdown",
   "metadata": {},
   "source": [
    "### Adding row average as a new columns"
   ]
  },
  {
   "cell_type": "code",
   "execution_count": 39,
   "metadata": {},
   "outputs": [
    {
     "name": "stderr",
     "output_type": "stream",
     "text": [
      "/anaconda3/lib/python3.7/site-packages/ipykernel_launcher.py:2: SettingWithCopyWarning: \n",
      "A value is trying to be set on a copy of a slice from a DataFrame.\n",
      "Try using .loc[row_indexer,col_indexer] = value instead\n",
      "\n",
      "See the caveats in the documentation: http://pandas.pydata.org/pandas-docs/stable/indexing.html#indexing-view-versus-copy\n",
      "  \n",
      "/anaconda3/lib/python3.7/site-packages/ipykernel_launcher.py:3: SettingWithCopyWarning: \n",
      "A value is trying to be set on a copy of a slice from a DataFrame.\n",
      "Try using .loc[row_indexer,col_indexer] = value instead\n",
      "\n",
      "See the caveats in the documentation: http://pandas.pydata.org/pandas-docs/stable/indexing.html#indexing-view-versus-copy\n",
      "  This is separate from the ipykernel package so we can avoid doing imports until\n",
      "/anaconda3/lib/python3.7/site-packages/ipykernel_launcher.py:6: SettingWithCopyWarning: \n",
      "A value is trying to be set on a copy of a slice from a DataFrame.\n",
      "Try using .loc[row_indexer,col_indexer] = value instead\n",
      "\n",
      "See the caveats in the documentation: http://pandas.pydata.org/pandas-docs/stable/indexing.html#indexing-view-versus-copy\n",
      "  \n",
      "/anaconda3/lib/python3.7/site-packages/ipykernel_launcher.py:7: SettingWithCopyWarning: \n",
      "A value is trying to be set on a copy of a slice from a DataFrame.\n",
      "Try using .loc[row_indexer,col_indexer] = value instead\n",
      "\n",
      "See the caveats in the documentation: http://pandas.pydata.org/pandas-docs/stable/indexing.html#indexing-view-versus-copy\n",
      "  import sys\n"
     ]
    }
   ],
   "source": [
    "df1['Mean']   = df1.mean(axis=1,skipna = True)\n",
    "df1_A['Mean'] = df1_A.mean(axis=1,skipna = True)\n",
    "df1_P['Mean'] = df1_P.mean(axis=1,skipna = True)\n",
    "\n",
    "df2['Mean']   = df2.mean(axis=1,skipna = True)\n",
    "df2_A['Mean'] = df2_A.mean(axis=1,skipna = True)\n",
    "df2_P['Mean'] = df2_P.mean(axis=1,skipna = True)"
   ]
  },
  {
   "cell_type": "markdown",
   "metadata": {},
   "source": [
    "### Adding column for Posture Code"
   ]
  },
  {
   "cell_type": "code",
   "execution_count": 40,
   "metadata": {},
   "outputs": [],
   "source": [
    "# 1st sheet\n",
    "rows = df1.shape[0]\n",
    "codes = list(range(1,rows+1))\n",
    "\n",
    "df1.insert(loc=0, column='Posture_Code', value=codes)\n",
    "df1_A.insert(loc=0, column='Posture_Code', value=codes)\n",
    "df1_P.insert(loc=0, column='Posture_Code', value=codes)\n",
    "\n",
    "# 2nd sheet\n",
    "rows = df2.shape[0]\n",
    "codes = list(range(1,rows+1))\n",
    "\n",
    "df2.insert(loc=0, column='Posture_Code', value=codes)\n",
    "df2_A.insert(loc=0, column='Posture_Code', value=codes)\n",
    "df2_P.insert(loc=0, column='Posture_Code', value=codes)"
   ]
  },
  {
   "cell_type": "markdown",
   "metadata": {},
   "source": [
    "## <font color=blue> Writing Excel Files"
   ]
  },
  {
   "cell_type": "code",
   "execution_count": 41,
   "metadata": {},
   "outputs": [],
   "source": [
    "newFile = fileName.split(sep='.')[0] + '_new.xlsx'\n",
    "\n",
    "writer = pd.ExcelWriter(newFile)\n",
    "df1.to_excel(writer,'Duration_all',index=False)\n",
    "df1_A.to_excel(writer,'Duration_A',index=False)\n",
    "df1_P.to_excel(writer,'Duration_P',index=False)\n",
    "\n",
    "df2.to_excel(writer,'Frequency',index=False)\n",
    "df2_A.to_excel(writer,'Frequency_A',index=False)\n",
    "df2_P.to_excel(writer,'Frequency_P',index=False)\n",
    "\n",
    "writer.save()"
   ]
  },
  {
   "cell_type": "code",
   "execution_count": null,
   "metadata": {},
   "outputs": [],
   "source": []
  }
 ],
 "metadata": {
  "kernelspec": {
   "display_name": "Python 3",
   "language": "python",
   "name": "python3"
  },
  "language_info": {
   "codemirror_mode": {
    "name": "ipython",
    "version": 3
   },
   "file_extension": ".py",
   "mimetype": "text/x-python",
   "name": "python",
   "nbconvert_exporter": "python",
   "pygments_lexer": "ipython3",
   "version": "3.7.1"
  }
 },
 "nbformat": 4,
 "nbformat_minor": 2
}
