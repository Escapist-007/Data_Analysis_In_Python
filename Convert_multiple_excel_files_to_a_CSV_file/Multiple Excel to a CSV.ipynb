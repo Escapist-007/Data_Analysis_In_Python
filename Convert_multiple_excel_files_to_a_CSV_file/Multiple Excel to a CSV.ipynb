{
 "cells": [
  {
   "cell_type": "markdown",
   "metadata": {},
   "source": [
    "## How to convert multiple excel files (same directory) into a single CSV file ?"
   ]
  },
  {
   "cell_type": "markdown",
   "metadata": {},
   "source": [
    "###  Import all necessary modules"
   ]
  },
  {
   "cell_type": "code",
   "execution_count": null,
   "metadata": {},
   "outputs": [],
   "source": [
    "import pandas as pd\n",
    "import os   \n",
    "import glob\n",
    "import shutil"
   ]
  },
  {
   "cell_type": "markdown",
   "metadata": {},
   "source": [
    "### Function for converting an .xlsx file to .csv file"
   ]
  },
  {
   "cell_type": "code",
   "execution_count": null,
   "metadata": {},
   "outputs": [],
   "source": [
    "global count_of_records\n",
    "count_of_records = 0\n",
    "\n",
    "def xlsx_to_csv(excel_filename):\n",
    "    \n",
    "    global count_of_records \n",
    "    \n",
    "    # Load the excel file in dataframe\n",
    "    df = pd.read_excel(excel_filename, header=0, usecols=[0,1,2,3,4,5,6,7,8,11,12,13,21,22]) # Necessary columns\n",
    "    print(\"Shape : \" + str(df.shape))\n",
    "    count_of_records = count_of_records + df.shape[0]\n",
    "    \n",
    "    # Write a CSV file from the dataframe\n",
    "    csv_filename = excel_filename.replace('.xlsx', '.csv')\n",
    "    df.to_csv(csv_filename, encoding='utf-8', index=False)\n",
    "    "
   ]
  },
  {
   "cell_type": "markdown",
   "metadata": {},
   "source": [
    "### Getting all the files in a directory and converting into .csv by calling the above function"
   ]
  },
  {
   "cell_type": "code",
   "execution_count": null,
   "metadata": {},
   "outputs": [],
   "source": [
    "# Need os & glob modules\n",
    "\n",
    "os.chdir(\"C:\\\\Users\\\\Md Moniruzzaman\\\\Desktop\\\\Test\") \n",
    "# This will change the current directory to this location\n",
    "# Can avoid it by giving the full path to \"glob\"\n",
    "\n",
    "for f in glob.glob(\"*.xlsx\"):\n",
    "    xlsx_to_csv(f)\n",
    "    print(f + \" Is converted\")\n"
   ]
  },
  {
   "cell_type": "markdown",
   "metadata": {},
   "source": [
    "### Merging all the CSV files into a single CSV file"
   ]
  },
  {
   "cell_type": "code",
   "execution_count": null,
   "metadata": {},
   "outputs": [],
   "source": [
    "# import all csv files from folder\n",
    "\n",
    "csv_files =  glob.glob(\"C:\\\\Users\\\\Md Moniruzzaman\\\\Desktop\\\\Test\\\\*.csv\")\n",
    "\n",
    "with open('Demo.csv', 'wb') as outfile:\n",
    "    for i, fname in enumerate(csv_files):\n",
    "        with open(fname, 'rb') as infile:\n",
    "            if i != 0:\n",
    "                infile.readline()  # Throw away header on all but first file\n",
    "                \n",
    "            # Block copy rest of file from input to output without parsing\n",
    "            shutil.copyfileobj(infile, outfile)\n",
    "            print(fname + \" has been merged.\")\n",
    "            "
   ]
  },
  {
   "cell_type": "code",
   "execution_count": null,
   "metadata": {},
   "outputs": [],
   "source": [
    "\n",
    "print(count_of_records)\n",
    "df = pd.read_csv(\"Demo.csv\")\n",
    "df.shape\n",
    "df.columns\n",
    "df.columns = df.columns.str.replace(\" \",\"_\")\n",
    "df.columns\n"
   ]
  }
 ],
 "metadata": {
  "kernelspec": {
   "display_name": "Python 3",
   "language": "python",
   "name": "python3"
  },
  "language_info": {
   "codemirror_mode": {
    "name": "ipython",
    "version": 3
   },
   "file_extension": ".py",
   "mimetype": "text/x-python",
   "name": "python",
   "nbconvert_exporter": "python",
   "pygments_lexer": "ipython3",
   "version": "3.6.4"
  }
 },
 "nbformat": 4,
 "nbformat_minor": 2
}
